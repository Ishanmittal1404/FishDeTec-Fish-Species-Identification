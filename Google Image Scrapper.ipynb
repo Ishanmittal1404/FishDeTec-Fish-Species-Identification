{
 "cells": [
  {
   "cell_type": "markdown",
   "metadata": {},
   "source": [
    "#### Importing Libraries"
   ]
  },
  {
   "cell_type": "code",
   "execution_count": 2,
   "metadata": {},
   "outputs": [],
   "source": [
    "import os\n",
    "import requests\n",
    "from bs4 import BeautifulSoup"
   ]
  },
  {
   "cell_type": "markdown",
   "metadata": {},
   "source": [
    "#### Define the website as well as the Useragent to be used"
   ]
  },
  {
   "cell_type": "code",
   "execution_count": 3,
   "metadata": {},
   "outputs": [],
   "source": [
    "google_image = \"https://www.google.co.in/search?q=bream+fish+&hl=en&authuser=0&tbm=isch&source=hp&biw=958&bih=923&ei=In35Yaq0A4y5mAXOr6DABg&iflsig=AHkkrS4AAAAAYfmLMueoZSKz7vF2MxiQw0KLOP_5A9Px&ved=0ahUKEwiqzYOtkt_1AhWMHKYKHc4XCGgQ4dUDCAY&uact=5&oq=bream+fish+&gs_lcp=CgNpbWcQAzIFCAAQgAQyBQgAEIAEMgUIABCABDIFCAAQgAQyBQgAEIAEMgUIABCABDIFCAAQgAQyBQgAEIAEMgUIABCABDIFCAAQgAQ6CwgAEIAEELEDEIMBOggIABCABBCxAzoICAAQsQMQgwFQAFjbC2DaDGgAcAB4AIAB8gGIAdIKkgEFMC44LjKYAQCgAQGqAQtnd3Mtd2l6LWltZw&sclient=img\"\n",
    "\n",
    "user_agent = {\n",
    "    \"User-Agent\": \"Mozilla/5.0 (Windows NT 10.0; Win64; x64) AppleWebKit/537.36 (KHTML, like Gecko) Chrome/70.0.3538.77 Safari/537.36\"\n",
    "}"
   ]
  },
  {
   "cell_type": "markdown",
   "metadata": {},
   "source": [
    "#### Declare the name of the folder and define function to download the images realted to the fishes"
   ]
  },
  {
   "cell_type": "code",
   "execution_count": 5,
   "metadata": {
    "scrolled": true
   },
   "outputs": [
    {
     "name": "stdout",
     "output_type": "stream",
     "text": [
      "What are you looking for? bream fish images\n",
      "How many images do you want? 100\n",
      "['https://encrypted-tbn0.gstatic.com/images?q=tbn:ANd9GcQ6RJwWAZYiBbIttBmK-eRt7JLgbGb_WQJk1A&usqp=CAU', 'https://encrypted-tbn0.gstatic.com/images?q=tbn:ANd9GcQoChiGUGkct5Z73F2ij0_GZlR2Yu_6qEz49Q&usqp=CAU', 'https://encrypted-tbn0.gstatic.com/images?q=tbn:ANd9GcRcJOQ2N--Oi_kN1IX50RpPnfpIb2SOf4_eZw&usqp=CAU', 'https://encrypted-tbn0.gstatic.com/images?q=tbn:ANd9GcQ4YHt42X8M-V80IXRZav0W9O6LjBN5F_tLhQ&usqp=CAU', 'https://encrypted-tbn0.gstatic.com/images?q=tbn:ANd9GcS0Llc02iWWmXVryRg3fP6zqQ5lbhzdwfGhZQ&usqp=CAU', 'https://encrypted-tbn0.gstatic.com/images?q=tbn:ANd9GcRZN0A_k6OTw-G9dUq4b-T6x3LFfqkeAORBwg&usqp=CAU', 'https://encrypted-tbn0.gstatic.com/images?q=tbn:ANd9GcSIeS47_4WJVHpunceceb0PZLo8N8kc2cXeXQ&usqp=CAU', 'https://encrypted-tbn0.gstatic.com/images?q=tbn:ANd9GcTjR_fM8_2aeOmyEUaA4I7ZygNAdCjKCm9aiw&usqp=CAU', 'https://encrypted-tbn0.gstatic.com/images?q=tbn:ANd9GcQ_gnthWIxrWWNXEtCC-SW6B4xyjM-daZ2pmQ&usqp=CAU', 'https://encrypted-tbn0.gstatic.com/images?q=tbn:ANd9GcQes5_rPYOtlnv-YjVwgkoaRP6iDhKeQM96lA&usqp=CAU', 'https://encrypted-tbn0.gstatic.com/images?q=tbn:ANd9GcRCnf62GwOOc6roWDPTaiUiN0k39hOFAQzgsA&usqp=CAU', 'https://encrypted-tbn0.gstatic.com/images?q=tbn:ANd9GcRzRaYiJq7YfC1oVb1reOY5daxPKeN8EIdjFw&usqp=CAU', 'https://encrypted-tbn0.gstatic.com/images?q=tbn:ANd9GcQcn3YXXE045HYHPozjVkcvTEIfqqxAXb93-g&usqp=CAU', 'https://encrypted-tbn0.gstatic.com/images?q=tbn:ANd9GcRVaVw_zhYhxtIP4fKAYWRLAI4EsgY6DAyggw&usqp=CAU', 'https://encrypted-tbn0.gstatic.com/images?q=tbn:ANd9GcRZy09XGSXakq8jVap1-58wujP3LYMBA6FsTw&usqp=CAU', 'https://encrypted-tbn0.gstatic.com/images?q=tbn:ANd9GcSbhlkiHwlroXLb5_3uA-sO0ZPIVPUIhnRCxw&usqp=CAU', 'https://encrypted-tbn0.gstatic.com/images?q=tbn:ANd9GcTygJZn48dXtcPE0OqRmEpN-pR4eFdRyA8wmA&usqp=CAU', 'https://encrypted-tbn0.gstatic.com/images?q=tbn:ANd9GcQO8yNeBobyxGx_Bu1WBNXQ-g4FbXUl-EuGCw&usqp=CAU', 'https://encrypted-tbn0.gstatic.com/images?q=tbn:ANd9GcSdPq7zRl8VEtOm-QB21N6fhFcJYJbq3rMPuQ&usqp=CAU', 'https://encrypted-tbn0.gstatic.com/images?q=tbn:ANd9GcS5QvB1HcS_Uhtizf0Hn_UeVSZfwQD6KtyFRA&usqp=CAU', 'https://encrypted-tbn0.gstatic.com/images?q=tbn:ANd9GcQJ4xKkw9U59rrAn3i5f9cAc8gz7KG1Cleo9A&usqp=CAU', 'https://encrypted-tbn0.gstatic.com/images?q=tbn:ANd9GcQlM8kSr1QX0vAIQYlwSL0QmFv8j6a6GX0sAQ&usqp=CAU', 'https://encrypted-tbn0.gstatic.com/images?q=tbn:ANd9GcQGAytfAiqbe1Ta4Hg0amtORaDX_BRxLfRKxQ&usqp=CAU', 'https://encrypted-tbn0.gstatic.com/images?q=tbn:ANd9GcR37qA0Ki5JnyG-n94B8SwJJbD7RMKdcNcFFA&usqp=CAU', 'https://encrypted-tbn0.gstatic.com/images?q=tbn:ANd9GcSkvxSce67PP8znWuPbCp3f2N15VnvKZtQ7kA&usqp=CAU', 'https://encrypted-tbn0.gstatic.com/images?q=tbn:ANd9GcRmj2EjD1TJKSKRs44rSq8-4v7O9Fuy4jHUkg&usqp=CAU', 'https://encrypted-tbn0.gstatic.com/images?q=tbn:ANd9GcROwlvQkPa9aVoTr9xzZrbnMWbjXQe5uyFsIA&usqp=CAU', 'https://encrypted-tbn0.gstatic.com/images?q=tbn:ANd9GcQScROkzS5Q3JtLioGa-zpq2bEYdLcWp2R8WA&usqp=CAU', 'https://encrypted-tbn0.gstatic.com/images?q=tbn:ANd9GcSlPERKW6P-xG_pqneDD4vEtIfRRx6mobpMMA&usqp=CAU', 'https://encrypted-tbn0.gstatic.com/images?q=tbn:ANd9GcT7tMzeZmoEJYK5zjrwUF9TZUS1EgaYXnsmWg&usqp=CAU', 'https://encrypted-tbn0.gstatic.com/images?q=tbn:ANd9GcSL1L2q7aLs2wKLW3rnlQmtr8rodnCzZEqfbw&usqp=CAU', 'https://encrypted-tbn0.gstatic.com/images?q=tbn:ANd9GcQVl3K3j7YwbdJBO19ZBZb1Ju_7afEBo1oLgQ&usqp=CAU', 'https://encrypted-tbn0.gstatic.com/images?q=tbn:ANd9GcSgH3EoR4cjybnClozcXvM1Vhi6EwvfDeG59g&usqp=CAU', 'https://encrypted-tbn0.gstatic.com/images?q=tbn:ANd9GcTn5jxhpJhXuo-AA9aRlHJMpge837CAzwEFhQ&usqp=CAU', 'https://encrypted-tbn0.gstatic.com/images?q=tbn:ANd9GcR-aszHC2u4IrHl43W2VndRaW8xO_neA3GFbA&usqp=CAU', 'https://encrypted-tbn0.gstatic.com/images?q=tbn:ANd9GcRWmDoqEnd1xhKen5ZfVbkQ6BxhwPUGUt6FKA&usqp=CAU', 'https://encrypted-tbn0.gstatic.com/images?q=tbn:ANd9GcQxeBYL3DrQuEnsvxHjkcleMpTjb2YyOPX2pQ&usqp=CAU', 'https://encrypted-tbn0.gstatic.com/images?q=tbn:ANd9GcSimMHul_cP0LWzvdrxW7gNVq6IREyLokX_Zw&usqp=CAU', 'https://encrypted-tbn0.gstatic.com/images?q=tbn:ANd9GcSuaCJQRSBl1NOK_JjIRER3bzE5KLmURCnJFg&usqp=CAU', 'https://encrypted-tbn0.gstatic.com/images?q=tbn:ANd9GcT4yC4A9CsSxRybX_EpXO4Dok7LYezx1XainA&usqp=CAU', 'https://encrypted-tbn0.gstatic.com/images?q=tbn:ANd9GcSxn2FOE-EgHqiOp9rj31hE9KMhe0sR8DV2VQ&usqp=CAU', 'https://encrypted-tbn0.gstatic.com/images?q=tbn:ANd9GcSI-qNriKyGiBSMMnl4JUXX9WX63DVYXU8sjw&usqp=CAU', 'https://encrypted-tbn0.gstatic.com/images?q=tbn:ANd9GcTTusZ9-cDs8KNWqLh0jC7YrshUpmBosNJoxQ&usqp=CAU', 'https://encrypted-tbn0.gstatic.com/images?q=tbn:ANd9GcRqE9sL9mqudTopgWFViGSs42OtGR7forrTtg&usqp=CAU', 'https://encrypted-tbn0.gstatic.com/images?q=tbn:ANd9GcQKTal2soLMS8dfctSBXbTpma4P-V_1s4IRUA&usqp=CAU', 'https://encrypted-tbn0.gstatic.com/images?q=tbn:ANd9GcTOkvTK98R8PQC-hGw4XqvkCHrAH0EVoj4I3Q&usqp=CAU', 'https://encrypted-tbn0.gstatic.com/images?q=tbn:ANd9GcS8ssB1L7X8ecajicLQeld4DLZLu3_le_SIQw&usqp=CAU', 'https://encrypted-tbn0.gstatic.com/images?q=tbn:ANd9GcSxXMpWSc3EHRer-deBcHojubX21S0qQXNpZw&usqp=CAU', 'https://encrypted-tbn0.gstatic.com/images?q=tbn:ANd9GcTffb1yiYZyBaXLQmokoPmuuqrTiYn1Itjg1w&usqp=CAU', 'https://encrypted-tbn0.gstatic.com/images?q=tbn:ANd9GcRX5pp5aMjxTthwevYLkpoVVr2PGl-or_TNhQ&usqp=CAU', 'https://encrypted-tbn0.gstatic.com/images?q=tbn:ANd9GcSip1pjlBrJjoPBxBsNjQjQo4QsZlnuDZWjdA&usqp=CAU', 'https://encrypted-tbn0.gstatic.com/images?q=tbn:ANd9GcSrfRviDh_gXRSHdiVI2-4LcGGB7UI-rTLhlw&usqp=CAU', 'https://encrypted-tbn0.gstatic.com/images?q=tbn:ANd9GcTI1FO-9whpJRrjhRHOzNYSHW-sjTFSkr39Ng&usqp=CAU', 'https://encrypted-tbn0.gstatic.com/images?q=tbn:ANd9GcRKPhG2HscXgj9YoBoc1nckWM4K0SIZ70irMw&usqp=CAU', 'https://encrypted-tbn0.gstatic.com/images?q=tbn:ANd9GcQDKwf-8rVovtniZPcZ0y1YF-wHhskj1yhkmA&usqp=CAU', 'https://encrypted-tbn0.gstatic.com/images?q=tbn:ANd9GcR6TUMHfQjes3hRd3wvmqCBehCWGsazxNbEDQ&usqp=CAU', 'https://encrypted-tbn0.gstatic.com/images?q=tbn:ANd9GcTvisMk6W86_h1h5cpL4T8VYY0KTvzKKtPk1g&usqp=CAU', 'https://encrypted-tbn0.gstatic.com/images?q=tbn:ANd9GcTTuFCJWN-TntTKPK3T816XlJlcEILpgMD10Q&usqp=CAU', 'https://encrypted-tbn0.gstatic.com/images?q=tbn:ANd9GcTU3uNaKfr7SpvekUXE915hM47VzKrGL07-dg&usqp=CAU', 'https://encrypted-tbn0.gstatic.com/images?q=tbn:ANd9GcRI7OIOvpEKqoXo_vx6vHBSOEdmMdrMUkuhQw&usqp=CAU', 'https://encrypted-tbn0.gstatic.com/images?q=tbn:ANd9GcQBQJ6Njd5UEHdmIiPnjSSAO1yrin5Hl7zEmQ&usqp=CAU', 'https://encrypted-tbn0.gstatic.com/images?q=tbn:ANd9GcQJIseIBl7rkWfqdvPGv_Ryp8Mzs5gLkAa7Yw&usqp=CAU', 'https://encrypted-tbn0.gstatic.com/images?q=tbn:ANd9GcTHuD3v6dj_EmV9qloQgfTIy6RXn1fxz1Iccg&usqp=CAU', 'https://encrypted-tbn0.gstatic.com/images?q=tbn:ANd9GcRY4GI7RYzLYkKfx85rgrCFjW5iQdwXCoFqVw&usqp=CAU', 'https://encrypted-tbn0.gstatic.com/images?q=tbn:ANd9GcSGSQJndWOqf9XWgLQfayg86esgcpiOYjS1gQ&usqp=CAU', 'https://encrypted-tbn0.gstatic.com/images?q=tbn:ANd9GcSDTQTcJCjWtYyS1iLpJVgLOhVtyOsta9959A&usqp=CAU', 'https://encrypted-tbn0.gstatic.com/images?q=tbn:ANd9GcSFoQrgEeScyVHzOq9qIa1TqmaKJcO_wHigVg&usqp=CAU', 'https://encrypted-tbn0.gstatic.com/images?q=tbn:ANd9GcTzhmjNYrufq-ww-RXMMAgF8R9EbwbF3Mddrg&usqp=CAU', 'https://encrypted-tbn0.gstatic.com/images?q=tbn:ANd9GcRQLL_HGRP7JwqbyKM4IjvSchqm8vAtn8wR8A&usqp=CAU', 'https://encrypted-tbn0.gstatic.com/images?q=tbn:ANd9GcTiN77WrtlQabJpg7C4AEFPsQtD0BP2UyEDHA&usqp=CAU', 'https://encrypted-tbn0.gstatic.com/images?q=tbn:ANd9GcTgSrXr3S64IIo8gDAvwD5wRME3nHqjLHzI9A&usqp=CAU', 'https://encrypted-tbn0.gstatic.com/images?q=tbn:ANd9GcRjF654ooC-oqhVB40OmDelCuksDNv-kNB-1A&usqp=CAU', 'https://encrypted-tbn0.gstatic.com/images?q=tbn:ANd9GcTPAa-Lpx7Q6TdfsnTWrTRh_Kk4-PG-mlT26g&usqp=CAU', 'https://encrypted-tbn0.gstatic.com/images?q=tbn:ANd9GcSSZZKd76kbI_qpggobFXo273oktg6ZRibRJg&usqp=CAU', 'https://encrypted-tbn0.gstatic.com/images?q=tbn:ANd9GcTvuGyQqhcFfdtpPqQWjRHoiqhaPhfvgJvx9w&usqp=CAU', 'https://encrypted-tbn0.gstatic.com/images?q=tbn:ANd9GcS4IL4N4kS2BzoFewODOPsxVpmteLsJ5K1qPA&usqp=CAU', 'https://encrypted-tbn0.gstatic.com/images?q=tbn:ANd9GcT5EQ8JPKrPlRjpzZxFyN1wRs8avk1tDASDPQ&usqp=CAU', 'https://encrypted-tbn0.gstatic.com/images?q=tbn:ANd9GcRfPyg5-hOIqLEhI9Vl1gMCk5Rg0JA4tG9VFg&usqp=CAU', 'https://encrypted-tbn0.gstatic.com/images?q=tbn:ANd9GcSgNEM0NhF1h7GaQLp2kmE70UieSkSdRbrHmA&usqp=CAU', 'https://encrypted-tbn0.gstatic.com/images?q=tbn:ANd9GcQd0cbGJh0JbFNWj486wcGtbPeGjSsugQceZg&usqp=CAU']\n",
      "Done images/bream fish images1.jpg\n"
     ]
    },
    {
     "name": "stdout",
     "output_type": "stream",
     "text": [
      "Done images/bream fish images2.jpg\n",
      "Done images/bream fish images3.jpg\n",
      "Done images/bream fish images4.jpg\n",
      "Done images/bream fish images5.jpg\n",
      "Done images/bream fish images6.jpg\n",
      "Done images/bream fish images7.jpg\n",
      "Done images/bream fish images8.jpg\n",
      "Done images/bream fish images9.jpg\n",
      "Done images/bream fish images10.jpg\n",
      "Done images/bream fish images11.jpg\n",
      "Done images/bream fish images12.jpg\n",
      "Done images/bream fish images13.jpg\n",
      "Done images/bream fish images14.jpg\n",
      "Done images/bream fish images15.jpg\n",
      "Done images/bream fish images16.jpg\n",
      "Done images/bream fish images17.jpg\n",
      "Done images/bream fish images18.jpg\n",
      "Done images/bream fish images19.jpg\n",
      "Done images/bream fish images20.jpg\n",
      "Done images/bream fish images21.jpg\n",
      "Done images/bream fish images22.jpg\n",
      "Done images/bream fish images23.jpg\n",
      "Done images/bream fish images24.jpg\n",
      "Done images/bream fish images25.jpg\n",
      "Done images/bream fish images26.jpg\n",
      "Done images/bream fish images27.jpg\n",
      "Done images/bream fish images28.jpg\n",
      "Done images/bream fish images29.jpg\n",
      "Done images/bream fish images30.jpg\n",
      "Done images/bream fish images31.jpg\n",
      "Done images/bream fish images32.jpg\n",
      "Done images/bream fish images33.jpg\n",
      "Done images/bream fish images34.jpg\n",
      "Done images/bream fish images35.jpg\n",
      "Done images/bream fish images36.jpg\n",
      "Done images/bream fish images37.jpg\n",
      "Done images/bream fish images38.jpg\n",
      "Done images/bream fish images39.jpg\n",
      "Done images/bream fish images40.jpg\n",
      "Done images/bream fish images41.jpg\n",
      "Done images/bream fish images42.jpg\n",
      "Done images/bream fish images43.jpg\n",
      "Done images/bream fish images44.jpg\n",
      "Done images/bream fish images45.jpg\n",
      "Done images/bream fish images46.jpg\n",
      "Done images/bream fish images47.jpg\n",
      "Done images/bream fish images48.jpg\n",
      "Done images/bream fish images49.jpg\n",
      "Done images/bream fish images50.jpg\n",
      "Done images/bream fish images51.jpg\n",
      "Done images/bream fish images52.jpg\n",
      "Done images/bream fish images53.jpg\n",
      "Done images/bream fish images54.jpg\n",
      "Done images/bream fish images55.jpg\n",
      "Done images/bream fish images56.jpg\n",
      "Done images/bream fish images57.jpg\n",
      "Done images/bream fish images58.jpg\n",
      "Done images/bream fish images59.jpg\n",
      "Done images/bream fish images60.jpg\n",
      "Done images/bream fish images61.jpg\n",
      "Done images/bream fish images62.jpg\n",
      "Done images/bream fish images63.jpg\n",
      "Done images/bream fish images64.jpg\n",
      "Done images/bream fish images65.jpg\n",
      "Done images/bream fish images66.jpg\n",
      "Done images/bream fish images67.jpg\n",
      "Done images/bream fish images68.jpg\n",
      "Done images/bream fish images69.jpg\n",
      "Done images/bream fish images70.jpg\n",
      "Done images/bream fish images71.jpg\n",
      "Done images/bream fish images72.jpg\n",
      "Done images/bream fish images73.jpg\n",
      "Done images/bream fish images74.jpg\n",
      "Done images/bream fish images75.jpg\n",
      "Done images/bream fish images76.jpg\n",
      "Done images/bream fish images77.jpg\n",
      "Done images/bream fish images78.jpg\n",
      "Done images/bream fish images79.jpg\n",
      "Done images/bream fish images80.jpg\n"
     ]
    }
   ],
   "source": [
    "saved_folder = 'images'\n",
    "\n",
    "def download_images():\n",
    "    data = input('What are you looking for? ')\n",
    "    n_images = int(input('How many images do you want? '))\n",
    "\n",
    "    search_url = google_image + 'q=' + data\n",
    "    response = requests.get(search_url, headers=user_agent)\n",
    "    html = response.text\n",
    "    soup = BeautifulSoup(html, 'html.parser')\n",
    "    results = soup.findAll('img', {'class': 'rg_i Q4LuWd'})\n",
    "\n",
    "    count = 1\n",
    "    links = []\n",
    "    for result in results:\n",
    "        try:\n",
    "            link = result['data-src']\n",
    "            links.append(link)\n",
    "            count += 1\n",
    "            if(count > n_images):\n",
    "                break\n",
    "\n",
    "        except KeyError:\n",
    "            continue\n",
    "    print(links)\n",
    "    for i, link in enumerate(links):\n",
    "        response = requests.get(link)\n",
    "        image_name = saved_folder + '/' + data + str(i+1) + '.jpg'\n",
    "        with open(image_name, 'wb') as fh:\n",
    "            fh.write(response.content)\n",
    "            print('Done',image_name)\n",
    "            \n",
    "if not os.path.exists(saved_folder):\n",
    "        os.mkdir(saved_folder)\n",
    "download_images()"
   ]
  },
  {
   "cell_type": "markdown",
   "metadata": {},
   "source": [
    "#### Preprocessing"
   ]
  },
  {
   "cell_type": "code",
   "execution_count": null,
   "metadata": {},
   "outputs": [],
   "source": [
    "from PIL import Image\n",
    "\n",
    "for i in fish_files:\n",
    "    colorImage  = Image.open(i)\n",
    "    rotated_angle = 10\n",
    "    while rotated_angle < 360:\n",
    "        rotated = colorImage.rotate(rotated_angle)\n",
    "        if rotated.mode != 'RGB':\n",
    "            rotated = rotated.convert('RGB')\n",
    "        image_num = rotated_angle//10\n",
    "        rotated.save(i[:-4]+'_'+str(image_num)+'.jpg')\n",
    "        rotated_angle += 10\n",
    "        print('Done:-',i)"
   ]
  }
 ],
 "metadata": {
  "kernelspec": {
   "display_name": "Python 3",
   "language": "python",
   "name": "python3"
  },
  "language_info": {
   "codemirror_mode": {
    "name": "ipython",
    "version": 3
   },
   "file_extension": ".py",
   "mimetype": "text/x-python",
   "name": "python",
   "nbconvert_exporter": "python",
   "pygments_lexer": "ipython3",
   "version": "3.8.5"
  }
 },
 "nbformat": 4,
 "nbformat_minor": 4
}
